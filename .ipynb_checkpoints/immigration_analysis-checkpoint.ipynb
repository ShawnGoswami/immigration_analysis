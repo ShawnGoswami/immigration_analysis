{
 "cells": [
  {
   "cell_type": "markdown",
   "id": "612ab05b",
   "metadata": {},
   "source": [
    "# US Immigration Statistics Analysis"
   ]
  },
  {
   "cell_type": "code",
   "execution_count": 1,
   "id": "00a70b2e",
   "metadata": {},
   "outputs": [],
   "source": [
    "# linear algebra library \n",
    "import numpy as np \n",
    "\n",
    "# data processing \n",
    "import pandas as pd \n",
    "import re\n",
    "\n",
    "# plotting graphs \n",
    "import seaborn as sns \n",
    "import matplotlib.pyplot as plt \n",
    "\n",
    "# datetime analysis \n",
    "import datetime\n",
    "\n",
    "# SQL\n",
    "import sqlite3\n",
    "from pathlib import Path"
   ]
  },
  {
   "cell_type": "markdown",
   "id": "b6099a53",
   "metadata": {},
   "source": [
    "We import the data in as a csv. "
   ]
  },
  {
   "cell_type": "code",
   "execution_count": 2,
   "id": "0e3ff31a",
   "metadata": {},
   "outputs": [
    {
     "data": {
      "text/html": [
       "<div>\n",
       "<style scoped>\n",
       "    .dataframe tbody tr th:only-of-type {\n",
       "        vertical-align: middle;\n",
       "    }\n",
       "\n",
       "    .dataframe tbody tr th {\n",
       "        vertical-align: top;\n",
       "    }\n",
       "\n",
       "    .dataframe thead th {\n",
       "        text-align: right;\n",
       "    }\n",
       "</style>\n",
       "<table border=\"1\" class=\"dataframe\">\n",
       "  <thead>\n",
       "    <tr style=\"text-align: right;\">\n",
       "      <th></th>\n",
       "      <th>Year</th>\n",
       "      <th>Immigrants Obtaining Lawful Permanent Resident Status</th>\n",
       "      <th>Refugee Arrivals</th>\n",
       "      <th>Noncitizen Apprehensions</th>\n",
       "      <th>Noncitizen Removals</th>\n",
       "      <th>Noncitizen Returns</th>\n",
       "    </tr>\n",
       "  </thead>\n",
       "  <tbody>\n",
       "    <tr>\n",
       "      <th>0</th>\n",
       "      <td>1980</td>\n",
       "      <td>524,295</td>\n",
       "      <td>207,116</td>\n",
       "      <td>910,361</td>\n",
       "      <td>18,013</td>\n",
       "      <td>719,211</td>\n",
       "    </tr>\n",
       "    <tr>\n",
       "      <th>1</th>\n",
       "      <td>1981</td>\n",
       "      <td>595,014</td>\n",
       "      <td>159,252</td>\n",
       "      <td>975,780</td>\n",
       "      <td>17,379</td>\n",
       "      <td>823,875</td>\n",
       "    </tr>\n",
       "    <tr>\n",
       "      <th>2</th>\n",
       "      <td>1982</td>\n",
       "      <td>533,624</td>\n",
       "      <td>98,096</td>\n",
       "      <td>970,246</td>\n",
       "      <td>15,216</td>\n",
       "      <td>812,572</td>\n",
       "    </tr>\n",
       "    <tr>\n",
       "      <th>3</th>\n",
       "      <td>1983</td>\n",
       "      <td>550,052</td>\n",
       "      <td>61,218</td>\n",
       "      <td>1,251,357</td>\n",
       "      <td>19,211</td>\n",
       "      <td>931,600</td>\n",
       "    </tr>\n",
       "    <tr>\n",
       "      <th>4</th>\n",
       "      <td>1984</td>\n",
       "      <td>541,811</td>\n",
       "      <td>70,393</td>\n",
       "      <td>1,246,981</td>\n",
       "      <td>18,696</td>\n",
       "      <td>909,833</td>\n",
       "    </tr>\n",
       "  </tbody>\n",
       "</table>\n",
       "</div>"
      ],
      "text/plain": [
       "   Year Immigrants Obtaining Lawful Permanent Resident Status  \\\n",
       "0  1980                                           524,295       \n",
       "1  1981                                           595,014       \n",
       "2  1982                                           533,624       \n",
       "3  1983                                           550,052       \n",
       "4  1984                                           541,811       \n",
       "\n",
       "  Refugee Arrivals Noncitizen Apprehensions Noncitizen Removals  \\\n",
       "0         207,116                   910,361              18,013   \n",
       "1         159,252                   975,780              17,379   \n",
       "2          98,096                   970,246              15,216   \n",
       "3          61,218                 1,251,357              19,211   \n",
       "4          70,393                 1,246,981              18,696   \n",
       "\n",
       "  Noncitizen Returns  \n",
       "0            719,211  \n",
       "1            823,875  \n",
       "2            812,572  \n",
       "3            931,600  \n",
       "4            909,833  "
      ]
     },
     "execution_count": 2,
     "metadata": {},
     "output_type": "execute_result"
    }
   ],
   "source": [
    "data = pd.read_csv(\"immigration_data.csv\", index_col = False)\n",
    "data.head(5)"
   ]
  },
  {
   "cell_type": "markdown",
   "id": "daa33e64",
   "metadata": {},
   "source": [
    "We notice an extra index column created by pandas. We remove this since we don't need it. "
   ]
  },
  {
   "cell_type": "code",
   "execution_count": 3,
   "id": "58159d12",
   "metadata": {},
   "outputs": [],
   "source": [
    "data.reset_index(drop=True, inplace=True)"
   ]
  },
  {
   "cell_type": "markdown",
   "id": "40dcc2ab",
   "metadata": {},
   "source": [
    "## Exploring the Data"
   ]
  },
  {
   "cell_type": "markdown",
   "id": "e7691d6f",
   "metadata": {},
   "source": [
    "We do a bit of data exploration to familiarize ourselves with the data. "
   ]
  },
  {
   "cell_type": "code",
   "execution_count": 4,
   "id": "527eefda",
   "metadata": {},
   "outputs": [
    {
     "data": {
      "text/plain": [
       "Index(['Year', 'Immigrants Obtaining Lawful Permanent Resident Status',\n",
       "       'Refugee Arrivals', 'Noncitizen Apprehensions', 'Noncitizen Removals',\n",
       "       'Noncitizen Returns'],\n",
       "      dtype='object')"
      ]
     },
     "execution_count": 4,
     "metadata": {},
     "output_type": "execute_result"
    }
   ],
   "source": [
    "data.columns"
   ]
  },
  {
   "cell_type": "code",
   "execution_count": 5,
   "id": "58041b60",
   "metadata": {},
   "outputs": [
    {
     "data": {
      "text/plain": [
       "(42, 6)"
      ]
     },
     "execution_count": 5,
     "metadata": {},
     "output_type": "execute_result"
    }
   ],
   "source": [
    "data.shape"
   ]
  },
  {
   "cell_type": "code",
   "execution_count": 6,
   "id": "ae04f6e8",
   "metadata": {},
   "outputs": [
    {
     "name": "stdout",
     "output_type": "stream",
     "text": [
      "<class 'pandas.core.frame.DataFrame'>\n",
      "RangeIndex: 42 entries, 0 to 41\n",
      "Data columns (total 6 columns):\n",
      " #   Column                                                 Non-Null Count  Dtype \n",
      "---  ------                                                 --------------  ----- \n",
      " 0   Year                                                   42 non-null     int64 \n",
      " 1   Immigrants Obtaining Lawful Permanent Resident Status  42 non-null     object\n",
      " 2   Refugee Arrivals                                       42 non-null     object\n",
      " 3   Noncitizen Apprehensions                               42 non-null     object\n",
      " 4   Noncitizen Removals                                    42 non-null     object\n",
      " 5   Noncitizen Returns                                     42 non-null     object\n",
      "dtypes: int64(1), object(5)\n",
      "memory usage: 2.1+ KB\n"
     ]
    }
   ],
   "source": [
    "data.info()"
   ]
  },
  {
   "cell_type": "markdown",
   "id": "6c2facb5",
   "metadata": {},
   "source": [
    "There are 42 rows and 6 columns. Every column except Year has \"object\" status. For further analysis, we'll need to turn this into a float. "
   ]
  },
  {
   "cell_type": "markdown",
   "id": "33fd8547",
   "metadata": {},
   "source": [
    "### Data Adjustments"
   ]
  },
  {
   "cell_type": "markdown",
   "id": "868d2b2d",
   "metadata": {},
   "source": [
    "We make some changes to the data to make it usable. "
   ]
  },
  {
   "cell_type": "code",
   "execution_count": 7,
   "id": "7ebd3c1d",
   "metadata": {},
   "outputs": [],
   "source": [
    "data.rename(columns={\"Immigrants Obtaining Lawful Permanent Resident Status\":\"Lawful Immigrants\"}, inplace=True)"
   ]
  },
  {
   "cell_type": "markdown",
   "id": "7c83ac5b",
   "metadata": {},
   "source": [
    "We remove the commas from column values to make analysis easier. We have to cast as \"str\" to avoid possible type conflicts."
   ]
  },
  {
   "cell_type": "code",
   "execution_count": 8,
   "id": "8866cd63",
   "metadata": {},
   "outputs": [],
   "source": [
    "for column in data.columns:\n",
    "    data[column] = data[column].astype(str).str.replace(r\"\\(.*\\)\", \" \", regex=True)\n",
    "    data[column] = data[column].astype(str).str.replace(r\"\\[.*\\]\", \" \", regex=True)\n",
    "    \n",
    "    # we don't replace with a whitespace character as to avoid numeric issues\n",
    "    data[column] = data[column].astype(str).str.replace(r\",\",\"\", regex=True)\n",
    "    data[column] = data[column].astype(str).str.strip()"
   ]
  },
  {
   "cell_type": "code",
   "execution_count": 9,
   "id": "939ae375",
   "metadata": {},
   "outputs": [
    {
     "data": {
      "text/html": [
       "<div>\n",
       "<style scoped>\n",
       "    .dataframe tbody tr th:only-of-type {\n",
       "        vertical-align: middle;\n",
       "    }\n",
       "\n",
       "    .dataframe tbody tr th {\n",
       "        vertical-align: top;\n",
       "    }\n",
       "\n",
       "    .dataframe thead th {\n",
       "        text-align: right;\n",
       "    }\n",
       "</style>\n",
       "<table border=\"1\" class=\"dataframe\">\n",
       "  <thead>\n",
       "    <tr style=\"text-align: right;\">\n",
       "      <th></th>\n",
       "      <th>Year</th>\n",
       "      <th>Lawful Immigrants</th>\n",
       "      <th>Refugee Arrivals</th>\n",
       "      <th>Noncitizen Apprehensions</th>\n",
       "      <th>Noncitizen Removals</th>\n",
       "      <th>Noncitizen Returns</th>\n",
       "    </tr>\n",
       "  </thead>\n",
       "  <tbody>\n",
       "    <tr>\n",
       "      <th>0</th>\n",
       "      <td>1980</td>\n",
       "      <td>524295</td>\n",
       "      <td>207116</td>\n",
       "      <td>910361</td>\n",
       "      <td>18013</td>\n",
       "      <td>719211</td>\n",
       "    </tr>\n",
       "    <tr>\n",
       "      <th>1</th>\n",
       "      <td>1981</td>\n",
       "      <td>595014</td>\n",
       "      <td>159252</td>\n",
       "      <td>975780</td>\n",
       "      <td>17379</td>\n",
       "      <td>823875</td>\n",
       "    </tr>\n",
       "    <tr>\n",
       "      <th>2</th>\n",
       "      <td>1982</td>\n",
       "      <td>533624</td>\n",
       "      <td>98096</td>\n",
       "      <td>970246</td>\n",
       "      <td>15216</td>\n",
       "      <td>812572</td>\n",
       "    </tr>\n",
       "    <tr>\n",
       "      <th>3</th>\n",
       "      <td>1983</td>\n",
       "      <td>550052</td>\n",
       "      <td>61218</td>\n",
       "      <td>1251357</td>\n",
       "      <td>19211</td>\n",
       "      <td>931600</td>\n",
       "    </tr>\n",
       "    <tr>\n",
       "      <th>4</th>\n",
       "      <td>1984</td>\n",
       "      <td>541811</td>\n",
       "      <td>70393</td>\n",
       "      <td>1246981</td>\n",
       "      <td>18696</td>\n",
       "      <td>909833</td>\n",
       "    </tr>\n",
       "  </tbody>\n",
       "</table>\n",
       "</div>"
      ],
      "text/plain": [
       "   Year Lawful Immigrants Refugee Arrivals Noncitizen Apprehensions  \\\n",
       "0  1980            524295           207116                   910361   \n",
       "1  1981            595014           159252                   975780   \n",
       "2  1982            533624            98096                   970246   \n",
       "3  1983            550052            61218                  1251357   \n",
       "4  1984            541811            70393                  1246981   \n",
       "\n",
       "  Noncitizen Removals Noncitizen Returns  \n",
       "0               18013             719211  \n",
       "1               17379             823875  \n",
       "2               15216             812572  \n",
       "3               19211             931600  \n",
       "4               18696             909833  "
      ]
     },
     "execution_count": 9,
     "metadata": {},
     "output_type": "execute_result"
    }
   ],
   "source": [
    "data.head()"
   ]
  },
  {
   "cell_type": "markdown",
   "id": "47f55e51",
   "metadata": {},
   "source": [
    "### Basic Summary Statistics"
   ]
  },
  {
   "cell_type": "markdown",
   "id": "265d7451",
   "metadata": {},
   "source": [
    "We convert every column to an integer, since all of our data consists of whole numbers. "
   ]
  },
  {
   "cell_type": "code",
   "execution_count": 10,
   "id": "6bba402d",
   "metadata": {},
   "outputs": [],
   "source": [
    "for column in data.columns:\n",
    "    data[column] = data[column].astype(int)"
   ]
  },
  {
   "cell_type": "code",
   "execution_count": 11,
   "id": "ad9186a7",
   "metadata": {},
   "outputs": [
    {
     "data": {
      "text/plain": [
       "Year                        int64\n",
       "Lawful Immigrants           int64\n",
       "Refugee Arrivals            int64\n",
       "Noncitizen Apprehensions    int64\n",
       "Noncitizen Removals         int64\n",
       "Noncitizen Returns          int64\n",
       "dtype: object"
      ]
     },
     "execution_count": 11,
     "metadata": {},
     "output_type": "execute_result"
    }
   ],
   "source": [
    "data.dtypes"
   ]
  },
  {
   "cell_type": "markdown",
   "id": "651ab457",
   "metadata": {},
   "source": [
    "We obtain the basic summary statistics for each column except Year. "
   ]
  },
  {
   "cell_type": "code",
   "execution_count": 19,
   "id": "d856dbef",
   "metadata": {},
   "outputs": [
    {
     "data": {
      "text/plain": [
       "count    4.200000e+01\n",
       "mean     9.142861e+05\n",
       "std      2.797462e+05\n",
       "min      5.242950e+05\n",
       "25%      6.657900e+05\n",
       "50%      9.656640e+05\n",
       "75%      1.061369e+06\n",
       "max      1.826595e+06\n",
       "Name: Lawful Immigrants, dtype: float64"
      ]
     },
     "execution_count": 19,
     "metadata": {},
     "output_type": "execute_result"
    }
   ],
   "source": [
    "data[\"Lawful Immigrants\"].describe()\n"
   ]
  },
  {
   "cell_type": "code",
   "execution_count": 13,
   "id": "729dbc98",
   "metadata": {},
   "outputs": [
    {
     "data": {
      "text/plain": [
       "count        42.000000\n",
       "mean      73705.333333\n",
       "std       37346.453158\n",
       "min       11454.000000\n",
       "25%       54399.500000\n",
       "50%       69914.500000\n",
       "75%       85211.000000\n",
       "max      207116.000000\n",
       "Name: Refugee Arrivals, dtype: float64"
      ]
     },
     "execution_count": 13,
     "metadata": {},
     "output_type": "execute_result"
    }
   ],
   "source": [
    "data[\"Refugee Arrivals\"].describe()"
   ]
  },
  {
   "cell_type": "code",
   "execution_count": 14,
   "id": "a2557016",
   "metadata": {},
   "outputs": [
    {
     "data": {
      "text/plain": [
       "count    4.200000e+01\n",
       "mean     1.136983e+06\n",
       "std      3.458046e+05\n",
       "min      5.965600e+05\n",
       "25%      8.944992e+05\n",
       "50%      1.132329e+06\n",
       "75%      1.318212e+06\n",
       "max      1.865379e+06\n",
       "Name: Noncitizen Apprehensions, dtype: float64"
      ]
     },
     "execution_count": 14,
     "metadata": {},
     "output_type": "execute_result"
    }
   ],
   "source": [
    "data[\"Noncitizen Apprehensions\"].describe()\n"
   ]
  },
  {
   "cell_type": "code",
   "execution_count": 15,
   "id": "6e5fd976",
   "metadata": {},
   "outputs": [
    {
     "data": {
      "text/plain": [
       "count        42.000000\n",
       "mean     179951.142857\n",
       "std      145240.084267\n",
       "min       15216.000000\n",
       "25%       33498.500000\n",
       "50%      178963.500000\n",
       "75%      323072.750000\n",
       "max      432201.000000\n",
       "Name: Noncitizen Removals, dtype: float64"
      ]
     },
     "execution_count": 15,
     "metadata": {},
     "output_type": "execute_result"
    }
   ],
   "source": [
    "data[\"Noncitizen Removals\"].describe()\n"
   ]
  },
  {
   "cell_type": "code",
   "execution_count": 16,
   "id": "db27f47a",
   "metadata": {},
   "outputs": [
    {
     "data": {
      "text/plain": [
       "count    4.200000e+01\n",
       "mean     8.464116e+05\n",
       "std      4.834266e+05\n",
       "min      1.004540e+05\n",
       "25%      3.594840e+05\n",
       "50%      9.216950e+05\n",
       "75%      1.103602e+06\n",
       "max      1.675876e+06\n",
       "Name: Noncitizen Returns, dtype: float64"
      ]
     },
     "execution_count": 16,
     "metadata": {},
     "output_type": "execute_result"
    }
   ],
   "source": [
    "data[\"Noncitizen Returns\"].describe()"
   ]
  },
  {
   "cell_type": "code",
   "execution_count": null,
   "id": "05cf2697",
   "metadata": {},
   "outputs": [],
   "source": []
  }
 ],
 "metadata": {
  "kernelspec": {
   "display_name": "Python 3 (ipykernel)",
   "language": "python",
   "name": "python3"
  },
  "language_info": {
   "codemirror_mode": {
    "name": "ipython",
    "version": 3
   },
   "file_extension": ".py",
   "mimetype": "text/x-python",
   "name": "python",
   "nbconvert_exporter": "python",
   "pygments_lexer": "ipython3",
   "version": "3.9.13"
  }
 },
 "nbformat": 4,
 "nbformat_minor": 5
}
